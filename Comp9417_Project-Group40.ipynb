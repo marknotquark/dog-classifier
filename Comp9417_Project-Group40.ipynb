{
 "cells": [
  {
   "cell_type": "markdown",
   "metadata": {},
   "source": [
    "## Comp 9417 Project: Dog Breed Classification"
   ]
  },
  {
   "cell_type": "markdown",
   "metadata": {},
   "source": [
    "This project was based off of the Kaggle competition for Dog Breed Classification:\n",
    "https://www.kaggle.com/c/dog-breed-identification"
   ]
  },
  {
   "cell_type": "markdown",
   "metadata": {},
   "source": [
    "# Looking At Our Data\n",
    "\n",
    "Before we want to do anything with our data or even think about creating our model, we should first have a look at what our data actually contains."
   ]
  },
  {
   "cell_type": "code",
   "execution_count": null,
   "metadata": {},
   "outputs": [],
   "source": [
    "import numpy as np \n",
    "import pandas as pd\n",
    "import seaborn as sns\n",
    "import matplotlib.pyplot as plt\n",
    "import os\n",
    "\n",
    "from tensorflow.keras.models import Model\n",
    "from tensorflow.keras.applications.vgg16 import VGG16\n",
    "from tensorflow.keras.preprocessing import image\n",
    "from tensorflow.keras.applications.resnet50 import preprocess_input, decode_predictions\n",
    "\n",
    "from sklearn.preprocessing import OneHotEncoder, LabelEncoder\n",
    "from sklearn.model_selection import train_test_split\n",
    "from sklearn.ensemble import RandomForestClassifier\n",
    "from sklearn.metrics import accuracy_score\n",
    "from sklearn.metrics import classification_report, confusion_matrix"
   ]
  },
  {
   "cell_type": "markdown",
   "metadata": {},
   "source": [
    "This function used to create a confusion matrix was taken from: https://www.kaggle.com/paultimothymooney/identify-dog-breed-from-image"
   ]
  },
  {
   "cell_type": "code",
   "execution_count": null,
   "metadata": {},
   "outputs": [],
   "source": [
    "# Plot confusion matrix\n",
    "def plot_confusion_matrix(cm, classes,\n",
    "                          normalize=False,\n",
    "                          title='Confusion matrix',\n",
    "                          cmap=plt.cm.Blues):\n",
    "    \"\"\"\n",
    "    This function prints and plots the confusion matrix.\n",
    "    Normalization can be applied by setting `normalize=True`.\n",
    "    \"\"\"\n",
    "    if normalize:\n",
    "        cm = cm.astype('float') / cm.sum(axis=1)[:, np.newaxis]\n",
    "    plt.figure(figsize = (60,60))\n",
    "    plt.imshow(cm, interpolation='nearest', cmap=cmap)\n",
    "    plt.title(title)\n",
    "    plt.colorbar()\n",
    "    tick_marks = np.arange(len(classes))\n",
    "    plt.xticks(tick_marks, classes, rotation=90)\n",
    "    plt.yticks(tick_marks, classes)\n",
    "    plt.tight_layout()\n",
    "    plt.ylabel('True label')\n",
    "    plt.xlabel('Predicted label')"
   ]
  },
  {
   "cell_type": "code",
   "execution_count": null,
   "metadata": {},
   "outputs": [],
   "source": [
    "#Load the data\n",
    "dataPath = 'input/dog-breed-identification'\n",
    "dataFrame = pd.read_csv(os.path.join(dataPath,'labels.csv'))"
   ]
  },
  {
   "cell_type": "markdown",
   "metadata": {},
   "source": [
    "Firstly we can have a look at how much data we have, and the distribution we have for all our breeds"
   ]
  },
  {
   "cell_type": "code",
   "execution_count": null,
   "metadata": {},
   "outputs": [],
   "source": [
    "distribution = dataFrame[\"breed\"].value_counts()\n",
    "distribution.rows = [\"breed\", \"number\"]\n",
    "\n",
    "#Creating a horizontal bar plot\n",
    "\n",
    "plt.figure(figsize = (50,80))\n",
    "sns.set(style=\"darkgrid\")\n",
    "sns.set(font_scale = 4)\n",
    "ax = sns.barplot(distribution, distribution.index)\n",
    "plt.show()"
   ]
  },
  {
   "cell_type": "markdown",
   "metadata": {},
   "source": [
    "Now that we have a graphical representation, we just wanted to also explicity extract some data from our graph, so that we had a clear representation of our dataset."
   ]
  },
  {
   "cell_type": "code",
   "execution_count": null,
   "metadata": {},
   "outputs": [],
   "source": [
    "def class_percentages(labels):\n",
    "    class_map={}\n",
    "    for i in labels:\n",
    "        if str(i) not in class_map:\n",
    "            class_map[str(i)]=1\n",
    "        else:\n",
    "            class_map[str(i)]+=1\n",
    "    return class_map\n",
    "\n",
    "p=class_percentages(dataFrame[\"breed\"])\n",
    "\n",
    "print(\"Class with maximum images is the \" + str(max(p, key=p.get)) + \"  \" + str(p[max(p, key=p.get)]))\n",
    "print(\"Class with minimum images is the \" + str(min(p, key=p.get)) + \"  \" + str(p[min(p, key=p.get)]))\n",
    "print(\"Total size of our dataset is \" + str(len(dataFrame[\"breed\"])))"
   ]
  },
  {
   "cell_type": "markdown",
   "metadata": {},
   "source": [
    "# Extraction Of Features\n",
    "\n",
    "Creating a neural network from scratch for computer vision problems is extremely hardware demanding. We decided that we would use a pre-trained model to extract generalised features from our images."
   ]
  },
  {
   "cell_type": "markdown",
   "metadata": {},
   "source": [
    "### Pre trained model\n",
    "For our pre-trained model, we decided to go with the VGG16 model from keras, trained on the ImageNet dataset."
   ]
  },
  {
   "cell_type": "code",
   "execution_count": null,
   "metadata": {},
   "outputs": [],
   "source": [
    "base_model = VGG16(weights=\"imagenet\")"
   ]
  },
  {
   "cell_type": "code",
   "execution_count": null,
   "metadata": {},
   "outputs": [],
   "source": [
    "model = Model(inputs=base_model.input, outputs=base_model.output)\n",
    "model.compile(optimizer='rmsprop', loss='categorical_crossentropy')"
   ]
  },
  {
   "cell_type": "markdown",
   "metadata": {},
   "source": [
    "### Creating Our Generator\n",
    "\n",
    "So that we do not have to load every image at once, as that would put immence strain on the computer, we will instead use a generator to yield each image when it is required."
   ]
  },
  {
   "cell_type": "code",
   "execution_count": null,
   "metadata": {},
   "outputs": [],
   "source": [
    "dataFrame['breed'] = LabelEncoder().fit_transform(dataFrame['breed'])\n",
    "y = dataFrame['breed'] \n",
    "onehot = OneHotEncoder()\n",
    "y = onehot.fit_transform(np.expand_dims(y, axis=1)).toarray()\n",
    "\n",
    "#Generator\n",
    "def generator(dataFrame):\n",
    "    pathTrain = 'input/dog-breed-identification/train'\n",
    "    while True:\n",
    "        for i in range(int(dataFrame.shape[0])):\n",
    "            imgPath = os.path.join(pathTrain, dataFrame.iloc[i]['id']+ '.jpg')\n",
    "    \n",
    "            img = image.load_img(imgPath, target_size=(224, 224))\n",
    "            x = image.img_to_array(img)\n",
    "            x = np.expand_dims(x, axis=0)\n",
    "            x = preprocess_input(x)\n",
    "            yield (x,y[i])\n",
    "                    \n",
    "gen = generator(dataFrame)"
   ]
  },
  {
   "cell_type": "markdown",
   "metadata": {},
   "source": [
    "### Extracting Features\n",
    "\n",
    "We will now use our model to run through all of our images and extract the key features. Once the key features of each image are extracted, this will make predictions far more accurate with our model which we will train."
   ]
  },
  {
   "cell_type": "code",
   "execution_count": null,
   "metadata": {},
   "outputs": [],
   "source": [
    "X_pred = model.predict(gen,steps=10221, verbose=1)"
   ]
  },
  {
   "cell_type": "markdown",
   "metadata": {},
   "source": [
    "## Making our Predictions\n",
    "\n",
    "Now that we have our extracted features we can start making our predictions using RandomForestClassifier from sklearn.\n",
    "\n",
    "Firstly we wil create a basic train_test_split of our data, and then once we have separated our data out we will fit our RandomForestClassifier using our new X_train and y_train"
   ]
  },
  {
   "cell_type": "code",
   "execution_count": null,
   "metadata": {},
   "outputs": [],
   "source": [
    "X_train, X_test, y_train, y_test = train_test_split(X_pred, dataFrame.iloc[:10221]['breed'])"
   ]
  },
  {
   "cell_type": "code",
   "execution_count": null,
   "metadata": {},
   "outputs": [],
   "source": [
    "clf = RandomForestClassifier(n_estimators=500)\n",
    "clf.fit(X_train, y_train)"
   ]
  },
  {
   "cell_type": "markdown",
   "metadata": {},
   "source": [
    "Now that we have fit our RandomForestClassifier we can use it to make predictions on our testing data."
   ]
  },
  {
   "cell_type": "code",
   "execution_count": null,
   "metadata": {},
   "outputs": [],
   "source": [
    "y_pred = clf.predict(X_test)"
   ]
  },
  {
   "cell_type": "markdown",
   "metadata": {},
   "source": [
    "Finally we can get the overall accuracy score of our model."
   ]
  },
  {
   "cell_type": "code",
   "execution_count": null,
   "metadata": {},
   "outputs": [],
   "source": [
    "accuracy = accuracy_score(y_test, y_pred)\n",
    "print(\"Dog identification accuracy: \", accuracy)"
   ]
  },
  {
   "cell_type": "markdown",
   "metadata": {},
   "source": [
    "### Extra data\n",
    "\n",
    "For the sake of getting a more in depth understanding of our model's performance we will also get the classification report, and create a confusion matrix to understand how our model performed when identifying each individual dog breed."
   ]
  },
  {
   "cell_type": "code",
   "execution_count": null,
   "metadata": {
    "scrolled": false
   },
   "outputs": [],
   "source": [
    "confusion_mtx = confusion_matrix(y_test, y_pred)\n",
    "print('Classification Report')\n",
    "target_names = distribution.index\n",
    "print(classification_report(y_test, y_pred, target_names=target_names, zero_division=0))"
   ]
  },
  {
   "cell_type": "code",
   "execution_count": null,
   "metadata": {},
   "outputs": [],
   "source": [
    "plot_confusion_matrix(confusion_mtx, target_names)"
   ]
  }
 ],
 "metadata": {
  "kernelspec": {
   "display_name": "Python 3",
   "language": "python",
   "name": "python3"
  },
  "language_info": {
   "codemirror_mode": {
    "name": "ipython",
    "version": 3
   },
   "file_extension": ".py",
   "mimetype": "text/x-python",
   "name": "python",
   "nbconvert_exporter": "python",
   "pygments_lexer": "ipython3",
   "version": "3.8.5"
  }
 },
 "nbformat": 4,
 "nbformat_minor": 4
}
